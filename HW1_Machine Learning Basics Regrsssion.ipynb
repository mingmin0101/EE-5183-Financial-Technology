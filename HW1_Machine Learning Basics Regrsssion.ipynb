{
 "cells": [
  {
   "cell_type": "code",
   "execution_count": 2,
   "metadata": {},
   "outputs": [],
   "source": [
    "import pandas as pd\n",
    "import numpy as np\n",
    "import matplotlib.pyplot as plt"
   ]
  },
  {
   "cell_type": "markdown",
   "metadata": {},
   "source": [
    "### 1. (70%) Linear Regression"
   ]
  },
  {
   "cell_type": "code",
   "execution_count": 3,
   "metadata": {},
   "outputs": [],
   "source": [
    "class Regression():\n",
    "    \n",
    "    def __init__(self, train_df, test_df, targetCol):\n",
    "        self.train_df = train_df\n",
    "        self.test_df = test_df\n",
    "        self.target_col = targetCol  \n",
    "    \n",
    "    def linear_regression_without_bias(self):\n",
    "        try:\n",
    "            x_pseudoinverse = np.linalg.pinv(self.train_df.drop(columns=[self.target_col]))\n",
    "        except:\n",
    "            x_pseudoinverse = np.linalg.pinv(self.train_df.drop(columns=[self.target_col]))\n",
    "\n",
    "        w = x_pseudoinverse.dot(self.train_df[self.target_col])\n",
    "        y_head = self.test_df.drop(columns=[self.target_col]).dot(w)\n",
    "\n",
    "        return y_head    \n",
    "    \n",
    "    \n",
    "    def linear_regression_without_bias_reg(self, lambdaValue):\n",
    "        n, m = self.train_df.drop(columns=[self.target_col]).shape\n",
    "\n",
    "        I = np.identity(m)\n",
    "        X = self.train_df.drop(columns=[self.target_col])\n",
    "        y = self.train_df[self.target_col]\n",
    "        w_reg = np.dot(np.dot(np.linalg.inv(np.dot(X.T, X) + (lambdaValue)*I), X.T), y)   ###### ?\n",
    "        \n",
    "        y_head = self.test_df.drop(columns=[self.target_col]).dot(w_reg)\n",
    "\n",
    "        return y_head\n",
    "    \n",
    "    \n",
    "    def linear_regression_bias_reg(self, lambdaValue):\n",
    "        X = self.train_df.drop(columns=[self.target_col])\n",
    "        y = self.train_df[self.target_col]\n",
    "        \n",
    "        # add bias term\n",
    "        X = np.hstack([np.ones([X.shape[0],1]), X])\n",
    "\n",
    "        n, m = X.shape\n",
    "        I = np.identity(m)\n",
    "        \n",
    "        w_reg = np.dot(np.dot(np.linalg.inv(np.dot(X.T, X) + (lambdaValue)*I), X.T), y)   \n",
    "        \n",
    "        X_test = self.test_df.drop(columns=[self.target_col])\n",
    "        X_test = np.hstack([np.ones([X_test.shape[0],1]), X_test])\n",
    "        \n",
    "        y_head = X_test.dot(w_reg) \n",
    "        \n",
    "        return y_head\n",
    "    \n",
    "    \n",
    "    def linear_regression_Bayesian(self, alphaValue):\n",
    "\n",
    "        X = self.train_df.drop(columns=[self.target_col])\n",
    "        y = self.train_df[self.target_col]\n",
    "        \n",
    "        # add bias term\n",
    "        X = np.hstack([np.ones([X.shape[0],1]), X])\n",
    "        \n",
    "        n, m = X.shape\n",
    "        I = np.identity(m)\n",
    "\n",
    "        posterior_mean = np.dot(np.dot(np.linalg.inv(np.dot(X.T, X) + (alphaValue)*I), X.T), y)   \n",
    "        \n",
    "        X_test = self.test_df.drop(columns=[self.target_col])\n",
    "        X_test = np.hstack([np.ones([X_test.shape[0],1]), X_test])\n",
    "        \n",
    "        y_head = X_test.dot(posterior_mean)\n",
    "        \n",
    "        return y_head\n",
    "     \n",
    "    def predict(self, predict_set, alphaValue):\n",
    "        \n",
    "        X = self.train_df.drop(columns=[self.target_col])\n",
    "        y = self.train_df[self.target_col]\n",
    "        \n",
    "        # add bias term\n",
    "        X = np.hstack([np.ones([X.shape[0],1]), X])\n",
    "        \n",
    "        n, m = X.shape\n",
    "        I = np.identity(m)\n",
    "\n",
    "        posterior_mean = np.dot(np.dot(np.linalg.inv(np.dot(X.T, X) + (alphaValue)*I), X.T), y)   \n",
    "        \n",
    "        X_test = predict_set\n",
    "        X_test = np.hstack([np.ones([X_test.shape[0],1]), X_test])\n",
    "        \n",
    "        y_head = X_test.dot(posterior_mean)\n",
    "        \n",
    "        return y_head\n",
    "        \n",
    "    def RMSE(self, y_head):\n",
    "        RMSE = np.sqrt(np.mean((y_head-self.test_df[self.target_col])**2))\n",
    "\n",
    "        return RMSE\n",
    "    \n",
    "    def plot_result(self, y1, y2, y3, y4):\n",
    "        self.test_df[self.target_col].plot(label=\"Ground Truth\")\n",
    "        y1.plot(label = \"Linear Regression\")\n",
    "        y2.plot(label = \"Linear Regression(reg)\")\n",
    "        plt.plot(y3, label = \"Linear Regression(r/b)\")\n",
    "        plt.plot(y4, label = \"Bayesian Linear Regression\")\n",
    "       \n",
    "        plt.grid(True)\n",
    "        plt.legend(loc = 'lower right')\n",
    "\n",
    "        plt.title(\"Regression result comparison\")\n",
    "        plt.ylabel(\"Value\")\n",
    "        plt.xlabel(\"Sample Index\")\n",
    "\n",
    "        plt.show()"
   ]
  },
  {
   "cell_type": "markdown",
   "metadata": {},
   "source": [
    "### (a) Split train & test set, Data preprocessing"
   ]
  },
  {
   "cell_type": "code",
   "execution_count": 4,
   "metadata": {},
   "outputs": [],
   "source": [
    "class Data_preprocess():\n",
    "    \n",
    "    def __init__(self, df):\n",
    "        self.df = df.dropna(axis=0)\n",
    "        self.df = df\n",
    "    \n",
    "    def split_train_test(self, trainingPercentage):\n",
    "        '''\n",
    "            split the data into training and testing sets\n",
    "            \n",
    "            trainingPercentage: the percentage of tarining data in the whole data\n",
    "        '''\n",
    "        # split df into training set and test set \n",
    "        df_copy = self.df.copy()\n",
    "        train_df = df_copy.sample(frac=trainingPercentage, random_state=7)  # frac: Fraction of axis items to return.\n",
    "        test_df = df_copy.drop(train_df.index)\n",
    "\n",
    "        # reset index\n",
    "        train_df.reset_index(drop=True, inplace=True)\n",
    "        test_df.reset_index(drop=True, inplace=True)\n",
    "\n",
    "        return train_df, test_df\n",
    "    \n",
    "    def normalize_data(self, train_df, test_df, target):\n",
    "        '''\n",
    "            normalize both the training and testing set\n",
    "            \n",
    "            train_df: dataframe of the training set\n",
    "            test_df: dataframe of the testing set\n",
    "            target: the name of the target column\n",
    "        '''\n",
    "        for c in test_df.columns:\n",
    "            if c != target:\n",
    "                train_mean = train_df[c].mean()\n",
    "                train_std = train_df[c].std()\n",
    "                train_df[c] = (train_df[c]-train_mean)/train_std\n",
    "                test_df[c] = (test_df[c]-train_mean)/train_std\n",
    "\n",
    "        return train_df, test_df"
   ]
  },
  {
   "cell_type": "code",
   "execution_count": 5,
   "metadata": {},
   "outputs": [],
   "source": [
    "# read file from 'train.csv'\n",
    "df = pd.read_csv('train.csv')\n",
    "\n",
    "# drop the columns which are not used in hw1\n",
    "df = df.drop(columns=['ID', 'reason', 'Mjob', 'Fjob', 'guardian', 'G1', 'G2'])\n",
    "\n",
    "# transform binary columns to one-hot encoding vectors\n",
    "df = pd.get_dummies(df)\n",
    "    \n",
    "d = Data_preprocess(df)\n",
    "train_df, test_df = d.split_train_test(trainingPercentage=0.8)\n",
    "train_df, test_df = d.normalize_data(train_df, test_df, 'G3')"
   ]
  },
  {
   "cell_type": "markdown",
   "metadata": {},
   "source": [
    "### (b) linear regression model without the bias"
   ]
  },
  {
   "cell_type": "code",
   "execution_count": 6,
   "metadata": {},
   "outputs": [],
   "source": [
    "r = Regression(train_df, test_df, \"G3\")"
   ]
  },
  {
   "cell_type": "code",
   "execution_count": 81,
   "metadata": {},
   "outputs": [
    {
     "name": "stdout",
     "output_type": "stream",
     "text": [
      "b) Linear Regression (without bias/without reg):\n",
      "RMSE:  11.792746473470308\n",
      "Variance:  4.121136428163525\n",
      "\n",
      "\n"
     ]
    }
   ],
   "source": [
    "y1 = r.linear_regression_without_bias()\n",
    "print('b) Linear Regression (without bias/without reg):')\n",
    "print(\"RMSE: \", r.RMSE(y1))\n",
    "print(\"Variance: \", y1.var())\n",
    "print('\\n')"
   ]
  },
  {
   "cell_type": "markdown",
   "metadata": {},
   "source": [
    "### (c) regularized linear regression model without the bias"
   ]
  },
  {
   "cell_type": "code",
   "execution_count": 83,
   "metadata": {},
   "outputs": [
    {
     "name": "stdout",
     "output_type": "stream",
     "text": [
      "c)　Linear Regression (without bias/with reg):\n",
      "RMSE:  11.792810356688442\n",
      "Variance:  4.114787482735242\n",
      "\n",
      "\n"
     ]
    }
   ],
   "source": [
    "y2 = r.linear_regression_without_bias_reg(lambdaValue=1)\n",
    "print('c)　Linear Regression (without bias/with reg):')\n",
    "print(\"RMSE: \", r.RMSE(y2))\n",
    "print(\"Variance: \", y2.var())\n",
    "print('\\n')"
   ]
  },
  {
   "cell_type": "markdown",
   "metadata": {},
   "source": [
    "### (d) regularized linear regression model with the bias"
   ]
  },
  {
   "cell_type": "code",
   "execution_count": 84,
   "metadata": {},
   "outputs": [
    {
     "name": "stdout",
     "output_type": "stream",
     "text": [
      "d) Linear Regression (with bias/with reg):\n",
      "RMSE:  3.499243675883523\n",
      "Variance:  4.0942135453215025\n",
      "\n",
      "\n"
     ]
    }
   ],
   "source": [
    "y3 = r.linear_regression_bias_reg(lambdaValue=1)\n",
    "print('d) Linear Regression (with bias/with reg):')\n",
    "print(\"RMSE: \", r.RMSE(y3))\n",
    "print(\"Variance: \", y3.var())\n",
    "print('\\n')"
   ]
  },
  {
   "cell_type": "markdown",
   "metadata": {},
   "source": [
    "### (e) Bayesian linear regression model with the bias"
   ]
  },
  {
   "cell_type": "code",
   "execution_count": 85,
   "metadata": {},
   "outputs": [
    {
     "name": "stdout",
     "output_type": "stream",
     "text": [
      "e) Bayesian Linear Regression:\n",
      "RMSE:  3.499243675883523\n",
      "Variance:  4.0942135453215025\n",
      "\n",
      "\n"
     ]
    }
   ],
   "source": [
    "y4 = r.linear_regression_Bayesian(alphaValue=1)\n",
    "print('e) Bayesian Linear Regression:')\n",
    "print(\"RMSE: \", r.RMSE(y4))\n",
    "print(\"Variance: \", y4.var())\n",
    "print('\\n')"
   ]
  },
  {
   "cell_type": "markdown",
   "metadata": {},
   "source": [
    "### (f)  Plot"
   ]
  },
  {
   "cell_type": "code",
   "execution_count": 11,
   "metadata": {},
   "outputs": [
    {
     "data": {
      "image/png": "[encoded data removed]",
      "text/plain": [
       "<Figure size 432x288 with 1 Axes>"
      ]
     },
     "metadata": {},
     "output_type": "display_data"
    }
   ],
   "source": [
    "r.plot_result(y1, y2, y3, y4)"
   ]
  },
  {
   "cell_type": "markdown",
   "metadata": {},
   "source": [
    "### (g) Predict test_no_G3.csv"
   ]
  },
  {
   "cell_type": "code",
   "execution_count": 12,
   "metadata": {},
   "outputs": [
    {
     "name": "stdout",
     "output_type": "stream",
     "text": [
      "min RMSE: 3.2686563394152475 ; alpha: 0.001\n"
     ]
    }
   ],
   "source": [
    "### tuning ####\n",
    "# RMSE_list = {}\n",
    "# r = Regression(train_df, test_df, \"G3\")\n",
    "# for i in np.linspace(0.001, 5, 100):\n",
    "#     y_head = r.predict(train_df.drop(columns=['G3']), alphaValue=i)\n",
    "#     rmse = np.sqrt(np.mean((y_head - train_df['G3'])**2))\n",
    "#     RMSE_list[i] = rmse\n",
    "\n",
    "# key_min = min(RMSE_list.keys(), key=(lambda k: RMSE_list[k]))\n",
    "# print('min RMSE: ' + str(RMSE_list[key_min])+\" ; alpha: \" + str(key_min))"
   ]
  },
  {
   "cell_type": "code",
   "execution_count": 13,
   "metadata": {},
   "outputs": [],
   "source": [
    "# read file from 'test_no_G3.csv'\n",
    "G3_test = pd.read_csv('test_no_G3.csv', index_col=\"ID\")\n",
    "\n",
    "# drop the columns which are not used in hw1\n",
    "G3_test_df = G3_test.drop(columns=['reason', 'Mjob', 'Fjob', 'guardian', 'G1', 'G2'])\n",
    "\n",
    "# transform binary columns to one-hot encoding vectors\n",
    "G3_test_df = pd.get_dummies(G3_test_df)\n",
    "\n",
    "# normalize\n",
    "for c in G3_test_df.columns:\n",
    "    if c != \"G3\":\n",
    "        G3_test_df[c] = (G3_test_df[c]-G3_test_df[c].mean())/G3_test_df[c].std()\n",
    "    \n",
    "y_predict = r.predict(G3_test_df, alphaValue=0.001)\n",
    "index_li = np.arange(1001, 1045, 1).tolist()\n",
    "y_predict = pd.DataFrame(y_predict, index=index_li)\n",
    "\n",
    "y_predict.to_csv('R09725012_1.txt', sep='\\t', header=False)"
   ]
  },
  {
   "cell_type": "markdown",
   "metadata": {},
   "source": [
    "### 2. (20%) Census Income Data Set\n"
   ]
  },
  {
   "cell_type": "markdown",
   "metadata": {},
   "source": [
    "### (a) Split train & test set, Data preprocessing"
   ]
  },
  {
   "cell_type": "code",
   "execution_count": 14,
   "metadata": {},
   "outputs": [],
   "source": [
    "# read file \n",
    "header_list = [\"age\", \"workclass\", \"fnlwgt\", \"education\", \"education-num\", \"marital-status\", \"occupation\", \"relationship\", \"race\", \"sex\", \"capital-gain\", \"capital-loss\", \"hours-per-week\", \"native-country\", \"y\"]\n",
    "header_list_without_target = [\"age\", \"workclass\", \"fnlwgt\", \"education\", \"education-num\", \"marital-status\", \"occupation\", \"relationship\", \"race\", \"sex\", \"capital-gain\", \"capital-loss\", \"hours-per-week\", \"native-country\"]\n",
    "df2 = pd.read_csv('Q2/adult.data.csv', names = header_list)\n",
    "\n",
    "# transform the target column to 0, 1 by Category Codes method\n",
    "## converting type of columns to 'category'\n",
    "df2['y'] = df2['y'].astype('category')\n",
    "\n",
    "## Assigning numerical values and storing in another column\n",
    "df2['y'] = df2['y'].cat.codes\n",
    "\n",
    "# transform binary columns to one-hot encoding vectors\n",
    "df2 = pd.get_dummies(df2)\n",
    "\n",
    "d2 = Data_preprocess(df2)\n",
    "train_df2, test_df2 = d2.split_train_test(trainingPercentage=0.8)\n",
    "train_df2, test_df2 = d2.normalize_data(train_df2, test_df2, 'y')"
   ]
  },
  {
   "cell_type": "markdown",
   "metadata": {},
   "source": [
    "### (b)"
   ]
  },
  {
   "cell_type": "code",
   "execution_count": 27,
   "metadata": {},
   "outputs": [],
   "source": [
    "class Logistic_Regression():\n",
    "    \n",
    "    def __init__(self, learning_rate, iterations, bias, reg):\n",
    "        \n",
    "        self.learning_rate = learning_rate\n",
    "        self.iterations = iterations\n",
    "        self.bias = bias\n",
    "        self.reg = reg\n",
    "        self.lambdaValue = 1\n",
    "        \n",
    "    def sigmoid(self, x):    \n",
    "        output = 1.0 / (1 + np.exp(-x))\n",
    "        return output\n",
    "    \n",
    "    def fit(self, train_x, train_y):\n",
    "        x, y = train_x, train_y\n",
    "        \n",
    "        if self.bias == True:\n",
    "            x = np.hstack([np.ones([x.shape[0],1]), x])\n",
    "            weight = np.zeros(x.shape[1])  \n",
    "        else:\n",
    "            weight = np.zeros(x.shape[1])\n",
    "            \n",
    "        m = x.shape[0]\n",
    "        for i in range(self.iterations): \n",
    "            \n",
    "            h = self.sigmoid(np.dot(x, weight))\n",
    "            if self.reg == True:\n",
    "                reg = (self.lambdaValue/2) * weight.T@weight\n",
    "                cost = (1/m) * np.sum((-y)@np.log(h+1e-5) - (1-y)@np.log(1-h+1e-5)) + reg\n",
    "                dW = 1/m * np.dot(x.T, (h - y)) + (self.lambdaValue) * weight  # derivative\n",
    "                weight -= self.learning_rate * dW\n",
    "            else:\n",
    "                cost = (1/m) * np.sum((-y)@np.log(h+1e-5) - (1-y)@np.log(1-h+1e-5))\n",
    "                dW = 1/m * np.dot(x.T, (h - y))  # derivative\n",
    "                weight -= self.learning_rate * dW\n",
    "            \n",
    "            self.loss = cost\n",
    "            # if i % 200 == 0:\n",
    "            #    print(\"iter:\" + str(i) + \";  cost: \" + str(cost))\n",
    "        \n",
    "        self.weight = weight\n",
    "    \n",
    "    def predict(self, test_x):\n",
    "        \n",
    "        if self.bias == True:\n",
    "            test_x = np.hstack([np.ones([test_x.shape[0],1]), test_x])\n",
    "        \n",
    "        y_p = self.sigmoid(np.dot(test_x, self.weight))\n",
    "        \n",
    "        y_head = list(map(lambda x: 1 if x >= 0.5 else 0, y_p))\n",
    "        \n",
    "        self.y_head = y_head"
   ]
  },
  {
   "cell_type": "code",
   "execution_count": 71,
   "metadata": {},
   "outputs": [],
   "source": [
    "### tuning ####\n",
    "# accu_list = {}\n",
    "# for i in np.linspace(0.001, 0.1, 10):\n",
    "#     model = Logistic_Regression(learning_rate=i, iterations=1000, bias=False, reg=True)\n",
    "#     model.fit(train_df2.drop(columns='y'), train_df2['y'])\n",
    "#     model.predict(train_df2.drop(columns='y'))\n",
    "#     accuracy = float(sum(model.y_head == train_df2['y'])) / len(train_df2['y'])\n",
    "#     accu_list[i] = accuracy\n",
    "\n",
    "# key_max = max(accu_list.keys(), key=(lambda k: accu_list[k]))\n",
    "# print('Maximum Value: ' + str(accu_list[key_max])+\" ;learning rate: \" + str(key_max))"
   ]
  },
  {
   "cell_type": "code",
   "execution_count": 65,
   "metadata": {},
   "outputs": [],
   "source": [
    "model_without_bias = Logistic_Regression(learning_rate=0.002, iterations=1000, bias=False, reg=False)\n",
    "model_without_bias.fit(train_df2.drop(columns='y'), train_df2['y'])\n",
    "model_without_bias.predict(test_df2.drop(columns='y'))"
   ]
  },
  {
   "cell_type": "code",
   "execution_count": 73,
   "metadata": {},
   "outputs": [
    {
     "name": "stdout",
     "output_type": "stream",
     "text": [
      "Logistic Regression (without bias/without reg):\n",
      "Accuracy:  0.7056203931203932\n",
      "Log loss:  0.5569829157701219\n",
      "\n",
      "\n"
     ]
    }
   ],
   "source": [
    "print('Logistic Regression (without bias/without reg):')\n",
    "print('Accuracy: ', float(sum(model_without_bias.y_head == test_df2['y'])) / len(test_df2['y']))\n",
    "print('Log loss: ', model_without_bias.loss)\n",
    "print('\\n')"
   ]
  },
  {
   "cell_type": "code",
   "execution_count": 67,
   "metadata": {},
   "outputs": [],
   "source": [
    "model_without_bias_reg = Logistic_Regression(learning_rate=0.002, iterations=1000, bias=False, reg=True)\n",
    "model_without_bias_reg.fit(train_df2.drop(columns='y'), train_df2['y'])\n",
    "model_without_bias_reg.predict(test_df2.drop(columns='y'))"
   ]
  },
  {
   "cell_type": "code",
   "execution_count": 74,
   "metadata": {},
   "outputs": [
    {
     "name": "stdout",
     "output_type": "stream",
     "text": [
      "Logistic Regression (without bias/with reg):\n",
      "Accuracy:  0.7059275184275184\n",
      "Log loss:  0.6298844821197788\n"
     ]
    }
   ],
   "source": [
    "print('Logistic Regression (without bias/with reg):')\n",
    "print('Accuracy: ', float(sum(model_without_bias_reg.y_head == test_df2['y'])) / len(test_df2['y']))\n",
    "print('Log loss: ', model_without_bias_reg.loss)"
   ]
  },
  {
   "cell_type": "code",
   "execution_count": 69,
   "metadata": {},
   "outputs": [],
   "source": [
    "model_with_bias_reg = Logistic_Regression(learning_rate=0.002, iterations=1000, bias=True, reg=True)\n",
    "model_with_bias_reg.fit(train_df2.drop(columns='y'), train_df2['y'])\n",
    "model_with_bias_reg.predict(test_df2.drop(columns='y'))"
   ]
  },
  {
   "cell_type": "code",
   "execution_count": 75,
   "metadata": {},
   "outputs": [
    {
     "name": "stdout",
     "output_type": "stream",
     "text": [
      "Logistic Regression (with bias/with reg):\n",
      "Accuracy:  0.7839373464373465\n",
      "Log loss:  0.6030639075051293\n"
     ]
    }
   ],
   "source": [
    "print('Logistic Regression (with bias/with reg):')\n",
    "print('Accuracy: ', float(sum(model_with_bias_reg.y_head == test_df2['y'])) / len(test_df2['y']))\n",
    "print('Log loss: ', model_with_bias_reg.loss)"
   ]
  }
 ],
 "metadata": {
  "kernelspec": {
   "display_name": "Python 3",
   "language": "python",
   "name": "python3"
  },
  "language_info": {
   "codemirror_mode": {
    "name": "ipython",
    "version": 3
   },
   "file_extension": ".py",
   "mimetype": "text/x-python",
   "name": "python",
   "nbconvert_exporter": "python",
   "pygments_lexer": "ipython3",
   "version": "3.6.5"
  }
 },
 "nbformat": 4,
 "nbformat_minor": 2
}
