{
 "cells": [
  {
   "cell_type": "markdown",
   "metadata": {},
   "source": [
    "# 1. (90%) Classification: \n",
    "In this exercise, you will implement a DNN model for binary classification using Data.csv. The objective in this exercise is to create and train a neural network to recognize fraudulent credit card transactions. You need to split the data into training (80%) and validation (20%) data."
   ]
  },
  {
   "cell_type": "code",
   "execution_count": 1,
   "metadata": {},
   "outputs": [],
   "source": [
    "import pandas as pd\n",
    "import numpy as np\n",
    "import matplotlib.pyplot as plt\n",
    "import seaborn as sns"
   ]
  },
  {
   "cell_type": "code",
   "execution_count": 48,
   "metadata": {},
   "outputs": [],
   "source": [
    "# read file from 'Data.csv'\n",
    "df = pd.read_csv('Data.csv')\n",
    "\n",
    "# split df into training set and test set \n",
    "df_copy = df.copy()\n",
    "train_df = df_copy.sample(frac=0.8)  # frac: Fraction of axis items to return.\n",
    "validation_df = df_copy.drop(train_df.index)\n",
    "\n",
    "# reset index\n",
    "train_df.reset_index(drop=True, inplace=True)\n",
    "validation_df.reset_index(drop=True, inplace=True)"
   ]
  },
  {
   "cell_type": "code",
   "execution_count": 3,
   "metadata": {
    "scrolled": true
   },
   "outputs": [
    {
     "data": {
      "text/plain": [
       "<matplotlib.axes._subplots.AxesSubplot at 0x25154588780>"
      ]
     },
     "execution_count": 3,
     "metadata": {},
     "output_type": "execute_result"
    },
    {
     "data": {
      "image/png": "[encoded data removed]",
      "text/plain": [
       "<Figure size 1440x720 with 1 Axes>"
      ]
     },
     "metadata": {},
     "output_type": "display_data"
    }
   ],
   "source": [
    "df.corrwith(df.Class).plot.bar(\\\n",
    "        figsize = (20, 10), title = \"Correlation with class\", fontsize = 15,\\\n",
    "        rot = 45, grid = True)"
   ]
  },
  {
   "cell_type": "code",
   "execution_count": 64,
   "metadata": {},
   "outputs": [],
   "source": [
    "# normalize column 'Time', 'Amount'\n",
    "from sklearn.preprocessing import StandardScaler\n",
    "\n",
    "df_copy = df.copy()\n",
    "df_copy['Amount_normalized'] = StandardScaler().fit_transform(df_copy['Amount'].values.reshape(-1,1))\n",
    "df_copy['Time_normalized'] = StandardScaler().fit_transform(df_copy['Time'].values.reshape(-1,1))\n",
    "\n",
    "df_copy = df_copy.drop(['Amount'],axis=1)\n",
    "df_copy = df_copy.drop(['Time'],axis=1)\n",
    "df_copy.head()\n",
    "\n",
    "# dividing the data values into features and target\n",
    "X = df_copy.drop(columns = ['Class'], axis=1)\n",
    "Y = df_copy['Class']\n",
    "\n",
    "# split data into training, validation data (using Skicit-learn)\n",
    "from sklearn.model_selection import train_test_split\n",
    "train_X, test_X, train_Y, test_Y = train_test_split(X, Y, test_size = 0.2, random_state = 0) "
   ]
  },
  {
   "cell_type": "code",
   "execution_count": 4,
   "metadata": {},
   "outputs": [
    {
     "data": {
      "text/plain": [
       "1120"
      ]
     },
     "execution_count": 4,
     "metadata": {},
     "output_type": "execute_result"
    }
   ],
   "source": [
    "len(train_X)"
   ]
  },
  {
   "cell_type": "markdown",
   "metadata": {},
   "source": [
    "### (i) (40%) DNN"
   ]
  },
  {
   "cell_type": "code",
   "execution_count": 4,
   "metadata": {},
   "outputs": [
    {
     "name": "stderr",
     "output_type": "stream",
     "text": [
      "Using TensorFlow backend.\n"
     ]
    }
   ],
   "source": [
    "import numpy\n",
    "from sklearn.model_selection import GridSearchCV\n",
    "from keras.models import Sequential\n",
    "from keras.layers import Dense, Dropout\n",
    "from keras.wrappers.scikit_learn import KerasClassifier\n",
    "\n",
    "from keras.optimizers import Adam\n",
    "#from keras.metrics import BinaryAccuracy, BinaryCrossentropy\n",
    "\n",
    "def dnn_model(hidden_layers=1, neurons = 10, learning_rate=0.01):\n",
    "    \n",
    "    # create model\n",
    "    model = Sequential()\n",
    "    \n",
    "    # input layer\n",
    "    model.add(Dense(15, input_dim=30, activation='relu'))    # 要有幾個 neurons?\n",
    "    model.add(Dropout(0.2))\n",
    "    \n",
    "    # hidden layer\n",
    "    for i in range(hidden_layers):\n",
    "        model.add(Dense(neurons, activation='relu'))\n",
    "        model.add(Dropout(0.2))\n",
    "    \n",
    "    # output layer\n",
    "    model.add(Dense(1, activation='sigmoid'))\n",
    "\n",
    "    # Compiling the NN\n",
    "    optimizer = Adam(learning_rate = learning_rate)\n",
    "    model.compile(optimizer = optimizer , loss = 'binary_crossentropy', metrics = ['accuracy'])\n",
    "    \n",
    "    return model"
   ]
  },
  {
   "cell_type": "code",
   "execution_count": null,
   "metadata": {
    "scrolled": true
   },
   "outputs": [
    {
     "name": "stderr",
     "output_type": "stream",
     "text": [
      "C:\\ProgramData\\Anaconda3\\lib\\site-packages\\sklearn\\model_selection\\_split.py:1978: FutureWarning: The default value of cv will change from 3 to 5 in version 0.22. Specify it explicitly to silence this warning.\n",
      "  warnings.warn(CV_WARNING, FutureWarning)\n"
     ]
    },
    {
     "name": "stdout",
     "output_type": "stream",
     "text": [
      "Epoch 1/50\n",
      "746/746 [==============================] - 0s 164us/step - loss: 0.9669 - accuracy: 0.5228\n",
      "Epoch 2/50\n",
      "746/746 [==============================] - 0s 56us/step - loss: 0.5616 - accuracy: 0.7185\n",
      "Epoch 3/50\n",
      "746/746 [==============================] - 0s 49us/step - loss: 0.4715 - accuracy: 0.7802\n",
      "Epoch 4/50\n",
      "746/746 [==============================] - 0s 67us/step - loss: 0.4119 - accuracy: 0.8298\n",
      "Epoch 5/50\n",
      "746/746 [==============================] - 0s 53us/step - loss: 0.3688 - accuracy: 0.8767\n",
      "Epoch 6/50\n",
      "746/746 [==============================] - 0s 64us/step - loss: 0.3133 - accuracy: 0.9075\n",
      "Epoch 7/50\n",
      "746/746 [==============================] - 0s 56us/step - loss: 0.2824 - accuracy: 0.9236\n",
      "Epoch 8/50\n",
      "746/746 [==============================] - 0s 57us/step - loss: 0.2505 - accuracy: 0.9263\n",
      "Epoch 9/50\n",
      "746/746 [==============================] - 0s 60us/step - loss: 0.2321 - accuracy: 0.9370\n",
      "Epoch 10/50\n",
      "746/746 [==============================] - 0s 64us/step - loss: 0.2092 - accuracy: 0.9477\n",
      "Epoch 11/50\n",
      "746/746 [==============================] - 0s 56us/step - loss: 0.2155 - accuracy: 0.9370\n",
      "Epoch 12/50\n",
      "746/746 [==============================] - 0s 55us/step - loss: 0.1904 - accuracy: 0.9450\n",
      "Epoch 13/50\n",
      "746/746 [==============================] - 0s 62us/step - loss: 0.1725 - accuracy: 0.9544\n",
      "Epoch 14/50\n",
      "746/746 [==============================] - 0s 48us/step - loss: 0.1760 - accuracy: 0.9544\n",
      "Epoch 15/50\n",
      "746/746 [==============================] - 0s 61us/step - loss: 0.1692 - accuracy: 0.9571\n",
      "Epoch 16/50\n",
      "746/746 [==============================] - 0s 44us/step - loss: 0.1755 - accuracy: 0.9544\n",
      "Epoch 17/50\n",
      "746/746 [==============================] - 0s 67us/step - loss: 0.1608 - accuracy: 0.9625\n",
      "Epoch 18/50\n",
      "746/746 [==============================] - 0s 57us/step - loss: 0.1534 - accuracy: 0.9544\n",
      "Epoch 19/50\n",
      "746/746 [==============================] - 0s 56us/step - loss: 0.1445 - accuracy: 0.9571\n",
      "Epoch 20/50\n",
      "746/746 [==============================] - 0s 59us/step - loss: 0.1414 - accuracy: 0.9665\n",
      "Epoch 21/50\n",
      "746/746 [==============================] - 0s 63us/step - loss: 0.1337 - accuracy: 0.9638\n",
      "Epoch 22/50\n",
      "746/746 [==============================] - 0s 49us/step - loss: 0.1276 - accuracy: 0.9625\n",
      "Epoch 23/50\n",
      "746/746 [==============================] - 0s 55us/step - loss: 0.1350 - accuracy: 0.9625\n",
      "Epoch 24/50\n",
      "746/746 [==============================] - 0s 48us/step - loss: 0.1246 - accuracy: 0.9638\n",
      "Epoch 25/50\n",
      "746/746 [==============================] - 0s 56us/step - loss: 0.1221 - accuracy: 0.9665\n",
      "Epoch 26/50\n",
      "746/746 [==============================] - 0s 57us/step - loss: 0.1198 - accuracy: 0.9625\n",
      "Epoch 27/50\n",
      "746/746 [==============================] - 0s 60us/step - loss: 0.1154 - accuracy: 0.9665\n",
      "Epoch 28/50\n",
      "746/746 [==============================] - 0s 61us/step - loss: 0.1298 - accuracy: 0.9651\n",
      "Epoch 29/50\n",
      "746/746 [==============================] - 0s 63us/step - loss: 0.1148 - accuracy: 0.9638\n",
      "Epoch 30/50\n",
      "746/746 [==============================] - 0s 47us/step - loss: 0.1033 - accuracy: 0.9732\n",
      "Epoch 31/50\n",
      "746/746 [==============================] - 0s 62us/step - loss: 0.1066 - accuracy: 0.9718\n",
      "Epoch 32/50\n",
      "746/746 [==============================] - 0s 66us/step - loss: 0.1157 - accuracy: 0.9678\n",
      "Epoch 33/50\n",
      "746/746 [==============================] - 0s 71us/step - loss: 0.1117 - accuracy: 0.9692\n",
      "Epoch 34/50\n",
      "746/746 [==============================] - 0s 60us/step - loss: 0.1038 - accuracy: 0.9678\n",
      "Epoch 35/50\n",
      "746/746 [==============================] - 0s 98us/step - loss: 0.1099 - accuracy: 0.9678\n",
      "Epoch 36/50\n",
      "746/746 [==============================] - 0s 64us/step - loss: 0.1079 - accuracy: 0.9705\n",
      "Epoch 37/50\n",
      "746/746 [==============================] - 0s 59us/step - loss: 0.1067 - accuracy: 0.9692\n",
      "Epoch 38/50\n",
      "746/746 [==============================] - 0s 51us/step - loss: 0.1002 - accuracy: 0.9759\n",
      "Epoch 39/50\n",
      "746/746 [==============================] - 0s 51us/step - loss: 0.0927 - accuracy: 0.9732\n",
      "Epoch 40/50\n",
      "746/746 [==============================] - 0s 56us/step - loss: 0.1049 - accuracy: 0.9745\n",
      "Epoch 41/50\n",
      "746/746 [==============================] - 0s 45us/step - loss: 0.0896 - accuracy: 0.9718\n",
      "Epoch 42/50\n",
      "746/746 [==============================] - 0s 40us/step - loss: 0.0882 - accuracy: 0.9732\n",
      "Epoch 43/50\n",
      "746/746 [==============================] - 0s 55us/step - loss: 0.0892 - accuracy: 0.9799\n",
      "Epoch 44/50\n",
      "746/746 [==============================] - 0s 53us/step - loss: 0.0888 - accuracy: 0.9759\n",
      "Epoch 45/50\n",
      "746/746 [==============================] - 0s 53us/step - loss: 0.0892 - accuracy: 0.9732\n",
      "Epoch 46/50\n",
      "746/746 [==============================] - 0s 47us/step - loss: 0.0948 - accuracy: 0.9732\n",
      "Epoch 47/50\n",
      "746/746 [==============================] - 0s 51us/step - loss: 0.0936 - accuracy: 0.9745\n",
      "Epoch 48/50\n",
      "746/746 [==============================] - 0s 53us/step - loss: 0.0932 - accuracy: 0.9812\n",
      "Epoch 49/50\n",
      "746/746 [==============================] - 0s 53us/step - loss: 0.0887 - accuracy: 0.9759\n",
      "Epoch 50/50\n",
      "746/746 [==============================] - 0s 56us/step - loss: 0.0782 - accuracy: 0.9799\n",
      "374/374 [==============================] - 0s 69us/step\n",
      "Epoch 1/50\n",
      "747/747 [==============================] - 0s 178us/step - loss: 1.0984 - accuracy: 0.5489\n",
      "Epoch 2/50\n",
      "747/747 [==============================] - 0s 51us/step - loss: 0.6124 - accuracy: 0.6948\n",
      "Epoch 3/50\n",
      "747/747 [==============================] - 0s 53us/step - loss: 0.4402 - accuracy: 0.8046\n",
      "Epoch 4/50\n",
      "747/747 [==============================] - 0s 56us/step - loss: 0.3694 - accuracy: 0.8568\n",
      "Epoch 5/50\n",
      "747/747 [==============================] - 0s 56us/step - loss: 0.3273 - accuracy: 0.8862\n",
      "Epoch 6/50\n",
      "747/747 [==============================] - 0s 52us/step - loss: 0.2788 - accuracy: 0.9116\n",
      "Epoch 7/50\n",
      "747/747 [==============================] - 0s 52us/step - loss: 0.2481 - accuracy: 0.9224\n",
      "Epoch 8/50\n",
      "747/747 [==============================] - 0s 60us/step - loss: 0.2384 - accuracy: 0.9277\n",
      "Epoch 9/50\n",
      "747/747 [==============================] - 0s 57us/step - loss: 0.2158 - accuracy: 0.9438\n",
      "Epoch 10/50\n",
      "747/747 [==============================] - 0s 62us/step - loss: 0.1834 - accuracy: 0.9585\n",
      "Epoch 11/50\n",
      "747/747 [==============================] - 0s 53us/step - loss: 0.1723 - accuracy: 0.9612\n",
      "Epoch 12/50\n",
      "747/747 [==============================] - 0s 58us/step - loss: 0.1729 - accuracy: 0.9558\n",
      "Epoch 13/50\n",
      "747/747 [==============================] - 0s 59us/step - loss: 0.1635 - accuracy: 0.9625\n",
      "Epoch 14/50\n",
      "747/747 [==============================] - 0s 57us/step - loss: 0.1512 - accuracy: 0.9558\n",
      "Epoch 15/50\n",
      "747/747 [==============================] - 0s 59us/step - loss: 0.1432 - accuracy: 0.9665\n",
      "Epoch 16/50\n",
      "747/747 [==============================] - 0s 59us/step - loss: 0.1376 - accuracy: 0.9625\n",
      "Epoch 17/50\n",
      "747/747 [==============================] - 0s 54us/step - loss: 0.1334 - accuracy: 0.9625\n",
      "Epoch 18/50\n",
      "747/747 [==============================] - 0s 59us/step - loss: 0.1285 - accuracy: 0.9665\n",
      "Epoch 19/50\n",
      "747/747 [==============================] - 0s 56us/step - loss: 0.1210 - accuracy: 0.9719\n",
      "Epoch 20/50\n",
      "747/747 [==============================] - 0s 67us/step - loss: 0.1117 - accuracy: 0.9705\n",
      "Epoch 21/50\n",
      "747/747 [==============================] - 0s 49us/step - loss: 0.1110 - accuracy: 0.9732\n",
      "Epoch 22/50\n",
      "747/747 [==============================] - 0s 51us/step - loss: 0.1108 - accuracy: 0.9679\n",
      "Epoch 23/50\n",
      "747/747 [==============================] - 0s 56us/step - loss: 0.1089 - accuracy: 0.9719\n",
      "Epoch 24/50\n",
      "747/747 [==============================] - 0s 55us/step - loss: 0.1039 - accuracy: 0.9625\n",
      "Epoch 25/50\n",
      "747/747 [==============================] - 0s 45us/step - loss: 0.1055 - accuracy: 0.9679\n",
      "Epoch 26/50\n",
      "747/747 [==============================] - 0s 47us/step - loss: 0.0972 - accuracy: 0.9759\n",
      "Epoch 27/50\n",
      "747/747 [==============================] - 0s 57us/step - loss: 0.1002 - accuracy: 0.9732\n",
      "Epoch 28/50\n",
      "747/747 [==============================] - 0s 57us/step - loss: 0.0973 - accuracy: 0.9746\n",
      "Epoch 29/50\n",
      "747/747 [==============================] - 0s 51us/step - loss: 0.0993 - accuracy: 0.9732\n",
      "Epoch 30/50\n",
      "747/747 [==============================] - 0s 53us/step - loss: 0.0950 - accuracy: 0.9719\n",
      "Epoch 31/50\n",
      "747/747 [==============================] - 0s 52us/step - loss: 0.0883 - accuracy: 0.9759\n",
      "Epoch 32/50\n",
      "747/747 [==============================] - 0s 61us/step - loss: 0.0906 - accuracy: 0.9772\n",
      "Epoch 33/50\n",
      "747/747 [==============================] - 0s 49us/step - loss: 0.0869 - accuracy: 0.9746\n",
      "Epoch 34/50\n",
      "747/747 [==============================] - 0s 48us/step - loss: 0.0853 - accuracy: 0.9772\n",
      "Epoch 35/50\n",
      "747/747 [==============================] - 0s 55us/step - loss: 0.0744 - accuracy: 0.9772\n",
      "Epoch 36/50\n",
      "747/747 [==============================] - ETA: 0s - loss: 0.0295 - accuracy: 1.00 - 0s 56us/step - loss: 0.0929 - accuracy: 0.9786\n",
      "Epoch 37/50\n",
      "747/747 [==============================] - 0s 56us/step - loss: 0.0738 - accuracy: 0.9786\n",
      "Epoch 38/50\n",
      "747/747 [==============================] - 0s 45us/step - loss: 0.0881 - accuracy: 0.9759\n",
      "Epoch 39/50\n",
      "747/747 [==============================] - 0s 62us/step - loss: 0.0874 - accuracy: 0.9746\n",
      "Epoch 40/50\n",
      "747/747 [==============================] - 0s 59us/step - loss: 0.0770 - accuracy: 0.9759\n",
      "Epoch 41/50\n",
      "747/747 [==============================] - 0s 57us/step - loss: 0.0824 - accuracy: 0.9799\n",
      "Epoch 42/50\n",
      "747/747 [==============================] - 0s 53us/step - loss: 0.0827 - accuracy: 0.9772\n",
      "Epoch 43/50\n",
      "747/747 [==============================] - 0s 57us/step - loss: 0.0815 - accuracy: 0.9813\n",
      "Epoch 44/50\n",
      "747/747 [==============================] - 0s 56us/step - loss: 0.0644 - accuracy: 0.9839\n",
      "Epoch 45/50\n",
      "747/747 [==============================] - 0s 50us/step - loss: 0.0764 - accuracy: 0.9772\n",
      "Epoch 46/50\n",
      "747/747 [==============================] - 0s 57us/step - loss: 0.0627 - accuracy: 0.9853\n",
      "Epoch 47/50\n",
      "747/747 [==============================] - 0s 52us/step - loss: 0.0729 - accuracy: 0.9799\n",
      "Epoch 48/50\n",
      "747/747 [==============================] - 0s 56us/step - loss: 0.0788 - accuracy: 0.9799\n",
      "Epoch 49/50\n",
      "747/747 [==============================] - 0s 52us/step - loss: 0.0702 - accuracy: 0.9826\n",
      "Epoch 50/50\n",
      "747/747 [==============================] - 0s 53us/step - loss: 0.0726 - accuracy: 0.9719\n",
      "373/373 [==============================] - 0s 75us/step\n",
      "Epoch 1/50\n",
      "747/747 [==============================] - 0s 168us/step - loss: 0.7698 - accuracy: 0.5315\n",
      "Epoch 2/50\n",
      "747/747 [==============================] - 0s 53us/step - loss: 0.6549 - accuracy: 0.6225\n",
      "Epoch 3/50\n",
      "747/747 [==============================] - 0s 52us/step - loss: 0.5130 - accuracy: 0.7309\n",
      "Epoch 4/50\n",
      "747/747 [==============================] - 0s 51us/step - loss: 0.4054 - accuracy: 0.8327\n",
      "Epoch 5/50\n",
      "747/747 [==============================] - 0s 59us/step - loss: 0.3451 - accuracy: 0.8889\n",
      "Epoch 6/50\n",
      "747/747 [==============================] - 0s 59us/step - loss: 0.3156 - accuracy: 0.9197\n",
      "Epoch 7/50\n",
      "747/747 [==============================] - 0s 48us/step - loss: 0.2614 - accuracy: 0.9331\n",
      "Epoch 8/50\n",
      "747/747 [==============================] - 0s 57us/step - loss: 0.2420 - accuracy: 0.9478\n",
      "Epoch 9/50\n",
      "747/747 [==============================] - 0s 57us/step - loss: 0.2157 - accuracy: 0.9491\n",
      "Epoch 10/50\n",
      "747/747 [==============================] - 0s 49us/step - loss: 0.1999 - accuracy: 0.9558\n",
      "Epoch 11/50\n",
      "747/747 [==============================] - 0s 57us/step - loss: 0.1875 - accuracy: 0.9545\n",
      "Epoch 12/50\n",
      "747/747 [==============================] - 0s 49us/step - loss: 0.1711 - accuracy: 0.9665\n",
      "Epoch 13/50\n",
      "747/747 [==============================] - 0s 56us/step - loss: 0.1601 - accuracy: 0.9625\n",
      "Epoch 14/50\n",
      "747/747 [==============================] - 0s 53us/step - loss: 0.1426 - accuracy: 0.9732\n",
      "Epoch 15/50\n",
      "747/747 [==============================] - 0s 53us/step - loss: 0.1515 - accuracy: 0.9652\n",
      "Epoch 16/50\n",
      "747/747 [==============================] - 0s 50us/step - loss: 0.1385 - accuracy: 0.9639\n",
      "Epoch 17/50\n",
      "747/747 [==============================] - 0s 57us/step - loss: 0.1327 - accuracy: 0.9732\n",
      "Epoch 18/50\n",
      "747/747 [==============================] - 0s 51us/step - loss: 0.1288 - accuracy: 0.9665\n",
      "Epoch 19/50\n",
      "747/747 [==============================] - 0s 52us/step - loss: 0.1161 - accuracy: 0.9759\n",
      "Epoch 20/50\n",
      "747/747 [==============================] - 0s 53us/step - loss: 0.1164 - accuracy: 0.9746\n",
      "Epoch 21/50\n",
      "747/747 [==============================] - 0s 47us/step - loss: 0.1135 - accuracy: 0.9786\n",
      "Epoch 22/50\n",
      "747/747 [==============================] - 0s 59us/step - loss: 0.1145 - accuracy: 0.9719\n",
      "Epoch 23/50\n",
      "747/747 [==============================] - 0s 53us/step - loss: 0.1073 - accuracy: 0.9732\n",
      "Epoch 24/50\n",
      "747/747 [==============================] - 0s 55us/step - loss: 0.1108 - accuracy: 0.9719\n",
      "Epoch 25/50\n",
      "747/747 [==============================] - 0s 49us/step - loss: 0.1022 - accuracy: 0.9719\n",
      "Epoch 26/50\n",
      "747/747 [==============================] - 0s 49us/step - loss: 0.1014 - accuracy: 0.9692\n",
      "Epoch 27/50\n",
      "747/747 [==============================] - 0s 46us/step - loss: 0.0988 - accuracy: 0.9746\n",
      "Epoch 28/50\n",
      "747/747 [==============================] - 0s 51us/step - loss: 0.0945 - accuracy: 0.9746\n",
      "Epoch 29/50\n",
      "747/747 [==============================] - 0s 49us/step - loss: 0.0859 - accuracy: 0.9786\n",
      "Epoch 30/50\n",
      "747/747 [==============================] - 0s 51us/step - loss: 0.0881 - accuracy: 0.9732\n",
      "Epoch 31/50\n",
      "747/747 [==============================] - 0s 58us/step - loss: 0.0856 - accuracy: 0.9692\n",
      "Epoch 32/50\n",
      "747/747 [==============================] - 0s 52us/step - loss: 0.0824 - accuracy: 0.9813\n",
      "Epoch 33/50\n",
      "747/747 [==============================] - 0s 53us/step - loss: 0.0834 - accuracy: 0.9759\n",
      "Epoch 34/50\n",
      "747/747 [==============================] - 0s 57us/step - loss: 0.0878 - accuracy: 0.9772\n",
      "Epoch 35/50\n",
      "747/747 [==============================] - 0s 48us/step - loss: 0.0826 - accuracy: 0.9813\n",
      "Epoch 36/50\n",
      "747/747 [==============================] - 0s 46us/step - loss: 0.0865 - accuracy: 0.9772\n",
      "Epoch 37/50\n",
      "747/747 [==============================] - 0s 57us/step - loss: 0.0707 - accuracy: 0.9799\n",
      "Epoch 38/50\n",
      "747/747 [==============================] - 0s 57us/step - loss: 0.0865 - accuracy: 0.9786\n",
      "Epoch 39/50\n",
      "747/747 [==============================] - 0s 59us/step - loss: 0.0725 - accuracy: 0.9839\n",
      "Epoch 40/50\n",
      "747/747 [==============================] - 0s 50us/step - loss: 0.0743 - accuracy: 0.9813\n",
      "Epoch 41/50\n",
      "747/747 [==============================] - 0s 47us/step - loss: 0.0740 - accuracy: 0.9826\n",
      "Epoch 42/50\n",
      "747/747 [==============================] - 0s 43us/step - loss: 0.0769 - accuracy: 0.9786\n",
      "Epoch 43/50\n",
      "747/747 [==============================] - 0s 58us/step - loss: 0.0736 - accuracy: 0.9813\n",
      "Epoch 44/50\n",
      "747/747 [==============================] - 0s 52us/step - loss: 0.0785 - accuracy: 0.9786\n",
      "Epoch 45/50\n",
      "747/747 [==============================] - 0s 51us/step - loss: 0.0662 - accuracy: 0.9826\n",
      "Epoch 46/50\n",
      "747/747 [==============================] - 0s 55us/step - loss: 0.0713 - accuracy: 0.9839\n",
      "Epoch 47/50\n",
      "747/747 [==============================] - 0s 51us/step - loss: 0.0689 - accuracy: 0.9813\n",
      "Epoch 48/50\n",
      "747/747 [==============================] - 0s 54us/step - loss: 0.0761 - accuracy: 0.9813\n",
      "Epoch 49/50\n",
      "747/747 [==============================] - 0s 49us/step - loss: 0.0661 - accuracy: 0.9839\n",
      "Epoch 50/50\n",
      "747/747 [==============================] - 0s 52us/step - loss: 0.0677 - accuracy: 0.9826\n",
      "373/373 [==============================] - 0s 85us/step\n",
      "Epoch 1/50\n",
      "746/746 [==============================] - 0s 157us/step - loss: 0.9549 - accuracy: 0.6193\n",
      "Epoch 2/50\n",
      "746/746 [==============================] - 0s 60us/step - loss: 0.4941 - accuracy: 0.7855\n",
      "Epoch 3/50\n",
      "746/746 [==============================] - 0s 50us/step - loss: 0.3917 - accuracy: 0.8566\n",
      "Epoch 4/50\n",
      "746/746 [==============================] - 0s 61us/step - loss: 0.3220 - accuracy: 0.8995\n",
      "Epoch 5/50\n",
      "746/746 [==============================] - 0s 61us/step - loss: 0.2916 - accuracy: 0.9209\n",
      "Epoch 6/50\n",
      "746/746 [==============================] - 0s 61us/step - loss: 0.2438 - accuracy: 0.9383\n",
      "Epoch 7/50\n",
      "746/746 [==============================] - 0s 59us/step - loss: 0.2320 - accuracy: 0.9370\n",
      "Epoch 8/50\n",
      "746/746 [==============================] - 0s 62us/step - loss: 0.2048 - accuracy: 0.9517\n",
      "Epoch 9/50\n"
     ]
    },
    {
     "name": "stdout",
     "output_type": "stream",
     "text": [
      "746/746 [==============================] - 0s 60us/step - loss: 0.2038 - accuracy: 0.9491\n",
      "Epoch 10/50\n",
      "746/746 [==============================] - 0s 57us/step - loss: 0.1731 - accuracy: 0.9531\n",
      "Epoch 11/50\n",
      "746/746 [==============================] - 0s 57us/step - loss: 0.1779 - accuracy: 0.9517\n",
      "Epoch 12/50\n",
      "746/746 [==============================] - 0s 52us/step - loss: 0.1741 - accuracy: 0.9517\n",
      "Epoch 13/50\n",
      "746/746 [==============================] - 0s 55us/step - loss: 0.1540 - accuracy: 0.9611\n",
      "Epoch 14/50\n",
      "746/746 [==============================] - 0s 56us/step - loss: 0.1675 - accuracy: 0.9611\n",
      "Epoch 15/50\n",
      "746/746 [==============================] - 0s 50us/step - loss: 0.1468 - accuracy: 0.9651\n",
      "Epoch 16/50\n",
      "746/746 [==============================] - 0s 53us/step - loss: 0.1295 - accuracy: 0.9638\n",
      "Epoch 17/50\n",
      "746/746 [==============================] - 0s 55us/step - loss: 0.1301 - accuracy: 0.9665\n",
      "Epoch 18/50\n",
      "746/746 [==============================] - 0s 51us/step - loss: 0.1297 - accuracy: 0.9638\n",
      "Epoch 19/50\n",
      "746/746 [==============================] - 0s 52us/step - loss: 0.1319 - accuracy: 0.9638\n",
      "Epoch 20/50\n",
      "746/746 [==============================] - 0s 55us/step - loss: 0.1278 - accuracy: 0.9611\n",
      "Epoch 21/50\n",
      "746/746 [==============================] - 0s 53us/step - loss: 0.1201 - accuracy: 0.9678\n",
      "Epoch 22/50\n",
      "746/746 [==============================] - 0s 49us/step - loss: 0.1212 - accuracy: 0.9665\n",
      "Epoch 23/50\n",
      "746/746 [==============================] - 0s 51us/step - loss: 0.1129 - accuracy: 0.9692\n",
      "Epoch 24/50\n",
      "746/746 [==============================] - 0s 52us/step - loss: 0.1052 - accuracy: 0.9705\n",
      "Epoch 25/50\n",
      "746/746 [==============================] - 0s 53us/step - loss: 0.1115 - accuracy: 0.9732\n",
      "Epoch 26/50\n",
      "746/746 [==============================] - 0s 55us/step - loss: 0.1145 - accuracy: 0.9759\n",
      "Epoch 27/50\n",
      "746/746 [==============================] - 0s 55us/step - loss: 0.1054 - accuracy: 0.9745\n",
      "Epoch 28/50\n",
      "746/746 [==============================] - 0s 55us/step - loss: 0.1130 - accuracy: 0.9692\n",
      "Epoch 29/50\n",
      "746/746 [==============================] - 0s 51us/step - loss: 0.1061 - accuracy: 0.9732\n",
      "Epoch 30/50\n",
      "746/746 [==============================] - 0s 55us/step - loss: 0.1066 - accuracy: 0.9718\n",
      "Epoch 31/50\n",
      "746/746 [==============================] - 0s 56us/step - loss: 0.0997 - accuracy: 0.9665\n",
      "Epoch 32/50\n",
      "746/746 [==============================] - 0s 51us/step - loss: 0.1030 - accuracy: 0.9678\n",
      "Epoch 33/50\n",
      "746/746 [==============================] - 0s 53us/step - loss: 0.0991 - accuracy: 0.9705\n",
      "Epoch 34/50\n",
      "746/746 [==============================] - 0s 52us/step - loss: 0.1040 - accuracy: 0.9705\n",
      "Epoch 35/50\n",
      "746/746 [==============================] - 0s 55us/step - loss: 0.0858 - accuracy: 0.9799\n",
      "Epoch 36/50\n",
      "746/746 [==============================] - 0s 52us/step - loss: 0.1017 - accuracy: 0.9745\n",
      "Epoch 37/50\n",
      "746/746 [==============================] - 0s 59us/step - loss: 0.0998 - accuracy: 0.9799\n",
      "Epoch 38/50\n",
      "746/746 [==============================] - 0s 50us/step - loss: 0.0952 - accuracy: 0.9732\n",
      "Epoch 39/50\n",
      "746/746 [==============================] - 0s 54us/step - loss: 0.0863 - accuracy: 0.9799\n",
      "Epoch 40/50\n",
      "746/746 [==============================] - 0s 52us/step - loss: 0.0883 - accuracy: 0.9786\n",
      "Epoch 41/50\n",
      "746/746 [==============================] - 0s 52us/step - loss: 0.0909 - accuracy: 0.9786\n",
      "Epoch 42/50\n",
      "746/746 [==============================] - 0s 50us/step - loss: 0.0874 - accuracy: 0.9745\n",
      "Epoch 43/50\n",
      "746/746 [==============================] - 0s 49us/step - loss: 0.0850 - accuracy: 0.9745\n",
      "Epoch 44/50\n",
      "746/746 [==============================] - 0s 48us/step - loss: 0.0933 - accuracy: 0.9772\n",
      "Epoch 45/50\n",
      "746/746 [==============================] - 0s 49us/step - loss: 0.0873 - accuracy: 0.9812\n",
      "Epoch 46/50\n",
      "746/746 [==============================] - 0s 51us/step - loss: 0.0888 - accuracy: 0.9732\n",
      "Epoch 47/50\n",
      "746/746 [==============================] - 0s 51us/step - loss: 0.0959 - accuracy: 0.9745\n",
      "Epoch 48/50\n",
      "746/746 [==============================] - 0s 55us/step - loss: 0.0823 - accuracy: 0.9786\n",
      "Epoch 49/50\n",
      "746/746 [==============================] - 0s 51us/step - loss: 0.0838 - accuracy: 0.9772\n",
      "Epoch 50/50\n",
      "746/746 [==============================] - ETA: 0s - loss: 0.2472 - accuracy: 0.96 - 0s 50us/step - loss: 0.0876 - accuracy: 0.9786\n",
      "374/374 [==============================] - 0s 67us/step\n",
      "Epoch 1/50\n",
      "747/747 [==============================] - 0s 185us/step - loss: 0.8671 - accuracy: 0.3882\n",
      "Epoch 2/50\n",
      "747/747 [==============================] - 0s 55us/step - loss: 0.7340 - accuracy: 0.5114\n",
      "Epoch 3/50\n",
      "747/747 [==============================] - 0s 60us/step - loss: 0.5655 - accuracy: 0.6493\n",
      "Epoch 4/50\n",
      "747/747 [==============================] - 0s 52us/step - loss: 0.5116 - accuracy: 0.7309\n",
      "Epoch 5/50\n",
      "747/747 [==============================] - 0s 57us/step - loss: 0.4452 - accuracy: 0.8246\n",
      "Epoch 6/50\n",
      "747/747 [==============================] - 0s 54us/step - loss: 0.3886 - accuracy: 0.8768\n",
      "Epoch 7/50\n",
      "747/747 [==============================] - 0s 54us/step - loss: 0.3375 - accuracy: 0.9224\n",
      "Epoch 8/50\n",
      "747/747 [==============================] - 0s 54us/step - loss: 0.2916 - accuracy: 0.9465\n",
      "Epoch 9/50\n",
      "747/747 [==============================] - 0s 59us/step - loss: 0.2782 - accuracy: 0.9505\n",
      "Epoch 10/50\n",
      "747/747 [==============================] - 0s 59us/step - loss: 0.2590 - accuracy: 0.9478\n",
      "Epoch 11/50\n",
      "747/747 [==============================] - 0s 71us/step - loss: 0.2500 - accuracy: 0.9558\n",
      "Epoch 12/50\n",
      "747/747 [==============================] - ETA: 0s - loss: 0.2706 - accuracy: 0.88 - 0s 71us/step - loss: 0.2078 - accuracy: 0.9598\n",
      "Epoch 13/50\n",
      "747/747 [==============================] - 0s 60us/step - loss: 0.2011 - accuracy: 0.9665\n",
      "Epoch 14/50\n",
      "747/747 [==============================] - 0s 57us/step - loss: 0.1734 - accuracy: 0.9665\n",
      "Epoch 15/50\n",
      "747/747 [==============================] - 0s 55us/step - loss: 0.1725 - accuracy: 0.9705\n",
      "Epoch 16/50\n",
      "747/747 [==============================] - 0s 65us/step - loss: 0.1698 - accuracy: 0.9652\n",
      "Epoch 17/50\n",
      " 25/747 [>.............................] - ETA: 0s - loss: 0.0830 - accuracy: 1.0000"
     ]
    }
   ],
   "source": [
    "# create model\n",
    "# model = KerasClassifier(build_fn = dnn_model)\n",
    "\n",
    "# # define the grid search parameters\n",
    "# hidden_layers = [0, 1, 2]\n",
    "# neurons = [5, 10, 15]\n",
    "# learning_rate = [0.001, 0.01, 0.1]\n",
    "# batch_size = [25, 50, 75, 100]\n",
    "# epochs = [50, 75, 100]\n",
    "\n",
    "# param_grid = dict(hidden_layers=hidden_layers, neurons=neurons, learning_rate=learning_rate, batch_size=batch_size, epochs=epochs)\n",
    "\n",
    "# grid = GridSearchCV(estimator=model, param_grid=param_grid)\n",
    "# grid_result = grid.fit(train_X, train_Y)\n",
    "\n",
    "# # summarize results\n",
    "# print(\"Best: %f using %s\" % (grid_result.best_score_, grid_result.best_params_))"
   ]
  },
  {
   "cell_type": "code",
   "execution_count": 102,
   "metadata": {
    "scrolled": false
   },
   "outputs": [],
   "source": [
    "dnn = dnn_model(hidden_layers = 2, neurons = 15, learning_rate = 0.01)\n",
    "history = dnn.fit(train_X, train_Y, batch_size = 25, epochs = 50, validation_data=(test_X, test_Y), verbose=0)"
   ]
  },
  {
   "cell_type": "code",
   "execution_count": 103,
   "metadata": {
    "scrolled": false
   },
   "outputs": [
    {
     "data": {
      "image/png": "[encoded data removed]",
      "text/plain": [
       "<Figure size 432x288 with 1 Axes>"
      ]
     },
     "metadata": {},
     "output_type": "display_data"
    },
    {
     "data": {
      "image/png": "[encoded data removed]",
      "text/plain": [
       "<Figure size 432x288 with 1 Axes>"
      ]
     },
     "metadata": {},
     "output_type": "display_data"
    }
   ],
   "source": [
    "# summarize history for accuracy\n",
    "plt.plot(history.history['accuracy'])\n",
    "plt.plot(history.history['val_accuracy'])\n",
    "plt.title('model accuracy')\n",
    "plt.ylabel('accuracy')\n",
    "plt.xlabel('epoch')\n",
    "plt.legend(['train', 'validation'], loc='upper right') \n",
    "plt.show()\n",
    "\n",
    "# summarize history for loss \n",
    "plt.plot(history.history['loss']) \n",
    "plt.plot(history.history['val_loss']) \n",
    "plt.title('model loss')\n",
    "plt.ylabel('loss')\n",
    "plt.xlabel('epoch')\n",
    "plt.legend(['train', 'validation'], loc='upper right') \n",
    "plt.show()"
   ]
  },
  {
   "cell_type": "markdown",
   "metadata": {},
   "source": [
    "### (ii) (10%) confusion matrices\n",
    "Please plot confusion matrices for (i) as example in Figure 2."
   ]
  },
  {
   "cell_type": "code",
   "execution_count": 128,
   "metadata": {},
   "outputs": [
    {
     "name": "stdout",
     "output_type": "stream",
     "text": [
      "[[741   3]\n",
      " [  2 374]]\n",
      "[[192   2]\n",
      " [  5  81]]\n"
     ]
    }
   ],
   "source": [
    "from sklearn.metrics import confusion_matrix\n",
    "\n",
    "train_Y_pred = dnn.predict(train_X.values)\n",
    "train_Y_pred = (train_Y_pred > 0.5)\n",
    "test_Y_pred = dnn.predict(test_X.values)\n",
    "test_Y_pred = (test_Y_pred > 0.5)\n",
    "\n",
    "train_confusion_matrix = confusion_matrix(train_Y, train_Y_pred)\n",
    "test_confusion_matrix= confusion_matrix(test_Y, test_Y_pred)\n",
    "\n",
    "print(train_confusion_matrix)\n",
    "print(test_confusion_matrix)"
   ]
  },
  {
   "cell_type": "code",
   "execution_count": 129,
   "metadata": {},
   "outputs": [
    {
     "data": {
      "image/png": "[encoded data removed]",
      "text/plain": [
       "<Figure size 216x216 with 1 Axes>"
      ]
     },
     "metadata": {},
     "output_type": "display_data"
    }
   ],
   "source": [
    "# Create pandas dataframe\n",
    "dataframe = pd.DataFrame(train_confusion_matrix, index=['True=0','True=1'], columns=['predict=0', 'predict=1'])\n",
    "\n",
    "# Create heatmap\n",
    "plt.figure(figsize=(3, 3))\n",
    "sns.heatmap(dataframe, annot=True, cbar=None, fmt ='g')\n",
    "plt.title(\"train_confusion_matrix\")\n",
    "plt.tight_layout()\n",
    "plt.show()"
   ]
  },
  {
   "cell_type": "code",
   "execution_count": 130,
   "metadata": {},
   "outputs": [
    {
     "data": {
      "image/png": "[encoded data removed]",
      "text/plain": [
       "<Figure size 216x216 with 1 Axes>"
      ]
     },
     "metadata": {},
     "output_type": "display_data"
    }
   ],
   "source": [
    "# Create pandas dataframe\n",
    "dataframe = pd.DataFrame(test_confusion_matrix, index=['True=0','True=1'], columns=['predict=0', 'predict=1'])\n",
    "\n",
    "# Create heatmap\n",
    "plt.figure(figsize=(3, 3))\n",
    "sns.heatmap(dataframe, annot=True, cbar=None, fmt ='g')\n",
    "plt.title(\"test_confusion_matrix\")\n",
    "plt.tight_layout()\n",
    "plt.show()"
   ]
  },
  {
   "cell_type": "markdown",
   "metadata": {},
   "source": [
    "### (iii) (10%) Precision, recall, F1-score\n",
    "Precision, recall, F1-score are other ways to evaluate model performance. For each class, please record precision, recall and F1-score as well as the averages of those criteria over all classes in your report.\n",
    "\n",
    "\\begin{equation*}\n",
    "Precision = \\frac{TruePositive}{TruePositive+FalsePositive}\n",
    "\\end{equation*}\n",
    "\n",
    "\\begin{equation*}\n",
    "Recall = \\frac{TruePositive}{TruePositive+FalseNegative}\n",
    "\\end{equation*}\n",
    "\n",
    "\\begin{equation*}\n",
    "F1-score = 2* \\frac{Precision ∗ Recall}{Precision + Recall}\n",
    "\\end{equation*}"
   ]
  },
  {
   "cell_type": "code",
   "execution_count": 131,
   "metadata": {},
   "outputs": [
    {
     "name": "stdout",
     "output_type": "stream",
     "text": [
      "Precision:  0.9759036144578314\n",
      "Recall:  0.9418604651162791\n",
      "F1 Score:  0.9585798816568047\n"
     ]
    }
   ],
   "source": [
    "from sklearn.metrics import accuracy_score, f1_score, recall_score, precision_score, classification_report\n",
    "\n",
    "precision_score = precision_score(test_Y, test_Y_pred)\n",
    "recall_score = recall_score(test_Y, test_Y_pred)\n",
    "f1_score = f1_score(test_Y, test_Y_pred)\n",
    "\n",
    "print(\"Precision: \", precision_score)\n",
    "print(\"Recall: \", recall_score)\n",
    "print(\"F1 Score: \", f1_score)"
   ]
  },
  {
   "cell_type": "code",
   "execution_count": 132,
   "metadata": {},
   "outputs": [
    {
     "name": "stdout",
     "output_type": "stream",
     "text": [
      "              precision    recall  f1-score   support\n",
      "\n",
      "           0       0.97      0.99      0.98       194\n",
      "           1       0.98      0.94      0.96        86\n",
      "\n",
      "    accuracy                           0.97       280\n",
      "   macro avg       0.98      0.97      0.97       280\n",
      "weighted avg       0.98      0.97      0.97       280\n",
      "\n"
     ]
    }
   ],
   "source": [
    "print(classification_report(test_Y, test_Y_pred))"
   ]
  },
  {
   "cell_type": "markdown",
   "metadata": {},
   "source": [
    "### (iv) (10%) What is difference between decision tree and random forest?"
   ]
  },
  {
   "cell_type": "markdown",
   "metadata": {},
   "source": [
    "A decision tree is built on an entire dataset by using all the features and observations from the data, whereas a random forest randomly selects observations and specific features to build multiple decision trees from and then aggregates the results into one final result (by voting from the result of the decision trees)."
   ]
  },
  {
   "cell_type": "markdown",
   "metadata": {},
   "source": [
    "### (v) (10%) \n",
    "Please use decision tree and random forest to learn the binary classification task. Calculate the corresponding Accuracy, Precision, Recall and F1-Score.\n"
   ]
  },
  {
   "cell_type": "code",
   "execution_count": 134,
   "metadata": {},
   "outputs": [
    {
     "name": "stdout",
     "output_type": "stream",
     "text": [
      "Accuracy:  0.9964285714285714\n",
      "Precision:  1.0\n",
      "Recall:  0.9883720930232558\n",
      "F1 Score:  0.9941520467836257\n"
     ]
    }
   ],
   "source": [
    "## Decison Tree\n",
    "from sklearn.tree import DecisionTreeClassifier\n",
    "from sklearn.metrics import accuracy_score, f1_score, recall_score, precision_score, classification_report\n",
    "\n",
    "model_dt = DecisionTreeClassifier()\n",
    "model_dt.fit(train_X, train_Y)\n",
    "\n",
    "# Predicting Test Set\n",
    "Y_pred_tree = model_dt.predict(test_X)\n",
    "\n",
    "acc_tree = accuracy_score(test_Y, Y_pred_tree)\n",
    "prec_tree = precision_score(test_Y, Y_pred_tree)\n",
    "rec_tree = recall_score(test_Y, Y_pred_tree)\n",
    "f1_tree = f1_score(test_Y, Y_pred_tree)\n",
    "\n",
    "print(\"Accuracy: \", acc_tree)\n",
    "print(\"Precision: \", prec_tree)\n",
    "print(\"Recall: \", rec_tree)\n",
    "print(\"F1 Score: \", f1_tree)"
   ]
  },
  {
   "cell_type": "code",
   "execution_count": 135,
   "metadata": {},
   "outputs": [
    {
     "name": "stdout",
     "output_type": "stream",
     "text": [
      "Accuracy:  0.9821428571428571\n",
      "Precision:  0.9879518072289156\n",
      "Recall:  0.9534883720930233\n",
      "F1 Score:  0.9704142011834319\n"
     ]
    },
    {
     "name": "stderr",
     "output_type": "stream",
     "text": [
      "C:\\ProgramData\\Anaconda3\\lib\\site-packages\\sklearn\\ensemble\\forest.py:245: FutureWarning: The default value of n_estimators will change from 10 in version 0.20 to 100 in 0.22.\n",
      "  \"10 in version 0.20 to 100 in 0.22.\", FutureWarning)\n"
     ]
    }
   ],
   "source": [
    "## Randomforest\n",
    "from sklearn.ensemble import RandomForestClassifier\n",
    "from sklearn.metrics import accuracy_score, f1_score, recall_score, precision_score, classification_report\n",
    "\n",
    "model_rf = RandomForestClassifier()\n",
    "model_rf.fit(train_X, train_Y)\n",
    "\n",
    "# Predicting Test Set\n",
    "Y_pred_randomForest = model_rf.predict(test_X)\n",
    "#Y_pred_randomForest = (Y_pred_randomForest > 0.5)\n",
    "\n",
    "acc_randomForest = accuracy_score(test_Y, Y_pred_randomForest)\n",
    "prec_randomForest = precision_score(test_Y, Y_pred_randomForest)\n",
    "rec_randomForest = recall_score(test_Y, Y_pred_randomForest)\n",
    "f1_randomForest = f1_score(test_Y, Y_pred_randomForest)\n",
    "\n",
    "print(\"Accuracy: \", acc_randomForest)\n",
    "print(\"Precision: \", prec_randomForest)\n",
    "print(\"Recall: \", rec_randomForest)\n",
    "print(\"F1 Score: \", f1_randomForest)"
   ]
  },
  {
   "cell_type": "markdown",
   "metadata": {},
   "source": [
    "### (vi) (10%) ROC curve and Precision-recall curve\n",
    "You have to plot learning curve, receiver operating characteristic curve (ROC, as shown in Figure 3) and precision-recall curve (PRC, as shown in Figure 3) with their area-under-curve (AUROC and AUPRC) for DNN, decision tree and random forest."
   ]
  },
  {
   "cell_type": "code",
   "execution_count": 136,
   "metadata": {},
   "outputs": [],
   "source": [
    "# calculate Y_pred\n",
    "Y_pred_dnn = dnn.predict(test_X.values)\n",
    "Y_pred_dnn_proba = [ele[0] for ele in Y_pred_dnn]\n",
    "\n",
    "Y_pred_tree_proba = model_dt.predict_proba(test_X)\n",
    "Y_pred_tree_proba = [ele[1] for ele in Y_pred_tree_proba]\n",
    "\n",
    "Y_pred_randomForest_proba = model_rf.predict_proba(test_X)\n",
    "Y_pred_randomForest_proba = [ele[1] for ele in Y_pred_randomForest_proba]"
   ]
  },
  {
   "cell_type": "code",
   "execution_count": 137,
   "metadata": {
    "scrolled": true
   },
   "outputs": [
    {
     "name": "stdout",
     "output_type": "stream",
     "text": [
      "AUC:  0.98 , 0.994 , 0.999\n"
     ]
    },
    {
     "data": {
      "image/png": "[encoded data removed]",
      "text/plain": [
       "<Figure size 432x288 with 1 Axes>"
      ]
     },
     "metadata": {},
     "output_type": "display_data"
    }
   ],
   "source": [
    "from sklearn.metrics import roc_curve, roc_auc_score\n",
    "plt.figure()\n",
    "\n",
    "# calculate ROC curve\n",
    "fpr_dnn, tpr_dnn, thresholds_dnn = roc_curve(test_Y, Y_pred_dnn_proba)\n",
    "fpr_dt, tpr_dt, thresholds_dt = roc_curve(test_Y, Y_pred_tree_proba)\n",
    "fpr_rf, tpr_rf, thresholds_rf = roc_curve(test_Y, Y_pred_randomForest_proba)\n",
    "\n",
    "# calculate AUC\n",
    "auc_dnn = round(roc_auc_score(test_Y, Y_pred_dnn_proba),3)\n",
    "auc_dt = round(roc_auc_score(test_Y, Y_pred_tree_proba),3)\n",
    "auc_rf = round(roc_auc_score(test_Y,Y_pred_randomForest_proba),3)\n",
    "print('AUC: ', auc_dnn, ',' , auc_dt, ',' , auc_rf)\n",
    "\n",
    "# plot the roc curve for the model\n",
    "plt.plot(fpr_dnn, tpr_dnn, label='DNN, AUC='+str(auc_dnn))\n",
    "plt.plot(fpr_dt, tpr_dt, label='Decision Tree, AUC='+str(auc_dt))\n",
    "plt.plot(fpr_rf, tpr_rf, label='Random Forest, AUC='+str(auc_rf))\n",
    "\n",
    "#plt.plot([0,1],[0,1],'--')\n",
    "plt.plot([0, 1], [0, 1], color='r', linestyle='--')\n",
    "# plt.xlim([0, 1])\n",
    "# plt.ylim([0, 1])\n",
    "plt.title(\"Receiver Operating Characteristic\")\n",
    "plt.xlabel('False Positive Rate')\n",
    "plt.ylabel('True Positive Rate')\n",
    "plt.legend()\n",
    "plt.show()"
   ]
  },
  {
   "cell_type": "code",
   "execution_count": 138,
   "metadata": {},
   "outputs": [
    {
     "name": "stdout",
     "output_type": "stream",
     "text": [
      "AUC:  0.98 , 0.996 , 0.998\n"
     ]
    },
    {
     "data": {
      "image/png": "[encoded data removed]",
      "text/plain": [
       "<Figure size 432x288 with 1 Axes>"
      ]
     },
     "metadata": {},
     "output_type": "display_data"
    }
   ],
   "source": [
    "from sklearn.metrics import precision_recall_curve, auc\n",
    "\n",
    "# calculate precision-recall curve\n",
    "precision_dnn, recall_dnn, thresholds_dnn = precision_recall_curve(test_Y, Y_pred_dnn_proba)\n",
    "precision_dt, recall_dt, thresholds_dt = precision_recall_curve(test_Y, Y_pred_tree_proba)\n",
    "precision_rf, recall_rf, thresholds_rf = precision_recall_curve(test_Y, Y_pred_randomForest_proba)\n",
    "\n",
    "# calculate precision-recall AUC\n",
    "pr_auc_dnn = round(auc(recall_dnn, precision_dnn),3)\n",
    "pr_auc_dt = round(auc(recall_dt, precision_dt),3)\n",
    "pr_auc_rf = round(auc(recall_rf, precision_rf),3)\n",
    "print('AUC: ', pr_auc_dnn, ',' , pr_auc_dt, ',' , pr_auc_rf)\n",
    "\n",
    "# plot the precision-recall curves\n",
    "plt.plot(recall_dnn, precision_dnn, label='DNN, AUC='+str(pr_auc_dnn))\n",
    "plt.plot(recall_dt, precision_dt, label='Decision Tree, AUC='+str(pr_auc_dt))\n",
    "plt.plot(recall_rf, precision_rf, label='Random forest, AUC='+str(pr_auc_rf))\n",
    "\n",
    "plt.title(\"Precision-Recall Curve\")\n",
    "# plt.xlim([0, 1])\n",
    "# plt.ylim([0, 1])\n",
    "plt.xlabel('Recall')\n",
    "plt.ylabel('Precision')\n",
    "plt.legend()\n",
    "plt.show()"
   ]
  },
  {
   "cell_type": "markdown",
   "metadata": {},
   "source": [
    "# 2. (10%) Lift curve:\n",
    "Here is an introduction to the concept of lift curve, which is commonly used in marketing analysis.\n",
    "Following is the meaning of each axis: The x-axis sorted all samples from high to low according\n",
    "to the prediction values, which means that closer to origin with higher prediction value; and the\n",
    "y-axis means the accumulated true positives. The following graph is an example of lift curve."
   ]
  },
  {
   "cell_type": "markdown",
   "metadata": {},
   "source": [
    "### (a) (10%) \n",
    "Please draw the lift curve of models in problem 1: DNN, decision tree and random forest. Please also draw the ideal lift curve and random guess like the above figure."
   ]
  },
  {
   "cell_type": "code",
   "execution_count": 123,
   "metadata": {},
   "outputs": [],
   "source": [
    "dic = {'actual':test_Y , 'DNN':list(Y_pred_dnn_proba), 'DT':list(Y_pred_tree_proba), 'RF':list(Y_pred_randomForest_proba)}\n",
    "df = pd.DataFrame(dic)\n",
    "#result_df = pd.concat([df, dnn_df], axis=1, sort=False)"
   ]
  },
  {
   "cell_type": "code",
   "execution_count": 171,
   "metadata": {},
   "outputs": [],
   "source": [
    "def get_cum_gains(df, pred, target):\n",
    "      \n",
    "    df_copy = df.loc[:,[pred,target]]  #df[[pred,target]]\n",
    "    \n",
    "    ### model cumulative sum\n",
    "    # x-axis: sorted all samples from high to low according to the prediction values\n",
    "    # y-axis: means the accumulated true positives\n",
    "    df_copy = df_copy.sort_values(by=[pred], ascending=False)\n",
    "    df_copy['pred'] = df_copy.apply(lambda row: 1 if row[pred] >= 0.5 else 0, axis=1)\n",
    "    df_copy['pred_tp'] = df_copy.apply(lambda row: 1 if (row['pred']==row[target]) and (row[target]==1) else 0, axis=1)     \n",
    "    df_copy['model cumulative sum'] = df_copy['pred_tp'].cumsum()\n",
    "    df_copy = df_copy.reset_index(drop=True)\n",
    "    \n",
    "    ### ideal model\n",
    "    # total amount of true positives\n",
    "    total_tp = df_copy['model cumulative sum'].max()\n",
    "    print(total_tp)\n",
    "    df_copy['pred_ideal'] = df_copy['pred_tp']\n",
    "    df_copy.loc[0:(total_tp-1),'pred_ideal'] = 1\n",
    "    df_copy.loc[total_tp:-1,'pred_ideal'] = 0\n",
    "    df_copy['ideal model'] = df_copy['pred_ideal'].cumsum()\n",
    "\n",
    "    \n",
    "    df_copy['ideal model'].plot()\n",
    "    df_copy['model cumulative sum'].plot()\n",
    "    #plt.plot([0, total_fp], [0, total_fp], [total_fp, len(df_copy)], [total_fp, total_fp], 'black', label='ideal')\n",
    "    \n",
    "    plt.plot([0, len(df_copy)], [0, total_tp], 'r', label='random guess')\n",
    "    plt.xlim([0, len(df_copy)])\n",
    "    plt.ylim([0 , total_tp+10])\n",
    "    \n",
    "    plt.xlabel('samples')\n",
    "    plt.ylabel('total events')\n",
    "    plt.title(pred + ' - Cumulative Gains Chart')\n",
    "    plt.legend(loc=\"lower right\")\n"
   ]
  },
  {
   "cell_type": "code",
   "execution_count": 172,
   "metadata": {},
   "outputs": [
    {
     "name": "stdout",
     "output_type": "stream",
     "text": [
      "81\n"
     ]
    },
    {
     "data": {
      "image/png": "[encoded data removed]",
      "text/plain": [
       "<Figure size 432x288 with 1 Axes>"
      ]
     },
     "metadata": {},
     "output_type": "display_data"
    }
   ],
   "source": [
    "get_cum_gains(df, 'DNN', 'actual')"
   ]
  },
  {
   "cell_type": "code",
   "execution_count": 173,
   "metadata": {},
   "outputs": [
    {
     "name": "stdout",
     "output_type": "stream",
     "text": [
      "85\n"
     ]
    },
    {
     "data": {
      "image/png": "[encoded data removed]",
      "text/plain": [
       "<Figure size 432x288 with 1 Axes>"
      ]
     },
     "metadata": {},
     "output_type": "display_data"
    }
   ],
   "source": [
    "get_cum_gains(df, 'DT', 'actual')"
   ]
  },
  {
   "cell_type": "code",
   "execution_count": 174,
   "metadata": {},
   "outputs": [
    {
     "name": "stdout",
     "output_type": "stream",
     "text": [
      "82\n"
     ]
    },
    {
     "data": {
      "image/png": "[encoded data removed]",
      "text/plain": [
       "<Figure size 432x288 with 1 Axes>"
      ]
     },
     "metadata": {},
     "output_type": "display_data"
    }
   ],
   "source": [
    "get_cum_gains(df, 'RF', 'actual')"
   ]
  }
 ],
 "metadata": {
  "kernelspec": {
   "display_name": "Python 3",
   "language": "python",
   "name": "python3"
  },
  "language_info": {
   "codemirror_mode": {
    "name": "ipython",
    "version": 3
   },
   "file_extension": ".py",
   "mimetype": "text/x-python",
   "name": "python",
   "nbconvert_exporter": "python",
   "pygments_lexer": "ipython3",
   "version": "3.6.5"
  }
 },
 "nbformat": 4,
 "nbformat_minor": 2
}
